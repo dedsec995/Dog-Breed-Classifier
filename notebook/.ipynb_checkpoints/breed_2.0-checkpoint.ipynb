{
 "cells": [
  {
   "cell_type": "markdown",
   "metadata": {},
   "source": [
    "## Importing Libraries"
   ]
  },
  {
   "cell_type": "code",
   "execution_count": 9,
   "metadata": {},
   "outputs": [
    {
     "name": "stdout",
     "output_type": "stream",
     "text": [
      "['annotations', 'temp', 'test', 'train']\n"
     ]
    }
   ],
   "source": [
    "import numpy as np # linear algebra\n",
    "import pandas as pd # data processing, CSV file I/O (e.g. pd.read_csv)\n",
    "import tensorflow as tf\n",
    "import matplotlib.pyplot as plt\n",
    "from imageio import imread\n",
    "# Input data files are available in the \"../input/\" directory.\n",
    "# For example, running this (by clicking run or pressing Shift+Enter) will list the files in the input directory\n",
    "\n",
    "import os\n",
    "train_dir = \"C:/Users/dedsec995/Projects/tensorflow/breed/data/train\"\n",
    "valid_dir = \"C:/Users/dedsec995/Projects/tensorflow/breed/data/test/\"\n",
    "print(os.listdir(\"C:/Users/dedsec995/Projects/tensorflow/breed/data\"))"
   ]
  },
  {
   "cell_type": "markdown",
   "metadata": {},
   "source": [
    "## Loading Inception V3"
   ]
  },
  {
   "cell_type": "code",
   "execution_count": 2,
   "metadata": {},
   "outputs": [
    {
     "name": "stdout",
     "output_type": "stream",
     "text": [
      "last layer output shape:  (None, 12, 12, 768)\n"
     ]
    }
   ],
   "source": [
    "from tensorflow.keras import layers\n",
    "from tensorflow.keras import Model\n",
    "  \n",
    "from tensorflow.keras.applications.inception_v3 import InceptionV3\n",
    "\n",
    "local_weights_file = 'C:/Users/dedsec995/Projects/tensorflow/breed/model/inception_v3_weights_tf_dim_ordering_tf_kernels_notop.h5'\n",
    "\n",
    "pre_trained_model = InceptionV3(input_shape = (224, 224, 3), \n",
    "                                include_top = False, \n",
    "                                weights = None)\n",
    "\n",
    "pre_trained_model.load_weights(local_weights_file)\n",
    "\n",
    "for layer in pre_trained_model.layers:\n",
    "  layer.trainable = False\n",
    "  \n",
    "# pre_trained_model.summary()\n",
    "\n",
    "last_layer = pre_trained_model.get_layer('mixed7')\n",
    "print('last layer output shape: ', last_layer.output_shape)\n",
    "last_output = last_layer.output"
   ]
  },
  {
   "cell_type": "code",
   "execution_count": 28,
   "metadata": {},
   "outputs": [],
   "source": [
    "from tensorflow.keras.optimizers import Adam\n",
    "\n",
    "# Flatten the output layer to 1 dimension\n",
    "x = layers.Flatten()(last_output)\n",
    "# Add a fully connected layer with 1,024 hidden units and ReLU activation\n",
    "x = layers.Dense(1024, activation='relu')(x)\n",
    "# Add a dropout rate of 0.2\n",
    "x = layers.Dropout(0.2)(x)  \n",
    "x = layers.Dense(512, activation='relu')(x)\n",
    "x = layers.Dropout(0.2)(x)\n",
    "x = layers.Dense(108, activation='relu')(x)\n",
    "# Add a final softmax layer for classification\n",
    "x = layers.Dense  (36, activation='softmax')(x)           \n",
    "\n",
    "model = Model( pre_trained_model.input, x) \n",
    "\n",
    "model.compile(optimizer = Adam(lr=0.0001), \n",
    "              loss = 'categorical_crossentropy', \n",
    "              metrics = ['accuracy'])\n"
   ]
  },
  {
   "cell_type": "code",
   "execution_count": 29,
   "metadata": {},
   "outputs": [
    {
     "name": "stdout",
     "output_type": "stream",
     "text": [
      "Model: \"sequential_4\"\n",
      "_________________________________________________________________\n",
      "Layer (type)                 Output Shape              Param #   \n",
      "=================================================================\n",
      "conv2d_110 (Conv2D)          (None, 222, 222, 16)      448       \n",
      "_________________________________________________________________\n",
      "conv2d_111 (Conv2D)          (None, 220, 220, 32)      4640      \n",
      "_________________________________________________________________\n",
      "max_pooling2d_20 (MaxPooling (None, 110, 110, 32)      0         \n",
      "_________________________________________________________________\n",
      "conv2d_112 (Conv2D)          (None, 108, 108, 64)      18496     \n",
      "_________________________________________________________________\n",
      "conv2d_113 (Conv2D)          (None, 106, 106, 64)      36928     \n",
      "_________________________________________________________________\n",
      "max_pooling2d_21 (MaxPooling (None, 53, 53, 64)        0         \n",
      "_________________________________________________________________\n",
      "conv2d_114 (Conv2D)          (None, 51, 51, 128)       73856     \n",
      "_________________________________________________________________\n",
      "max_pooling2d_22 (MaxPooling (None, 25, 25, 128)       0         \n",
      "_________________________________________________________________\n",
      "conv2d_115 (Conv2D)          (None, 23, 23, 128)       147584    \n",
      "_________________________________________________________________\n",
      "max_pooling2d_23 (MaxPooling (None, 11, 11, 128)       0         \n",
      "_________________________________________________________________\n",
      "flatten_5 (Flatten)          (None, 15488)             0         \n",
      "_________________________________________________________________\n",
      "dropout_7 (Dropout)          (None, 15488)             0         \n",
      "_________________________________________________________________\n",
      "dense_14 (Dense)             (None, 1024)              15860736  \n",
      "_________________________________________________________________\n",
      "dense_15 (Dense)             (None, 1024)              1049600   \n",
      "_________________________________________________________________\n",
      "dropout_8 (Dropout)          (None, 1024)              0         \n",
      "_________________________________________________________________\n",
      "dense_16 (Dense)             (None, 512)               524800    \n",
      "_________________________________________________________________\n",
      "dense_17 (Dense)             (None, 36)                18468     \n",
      "=================================================================\n",
      "Total params: 17,735,556\n",
      "Trainable params: 17,735,556\n",
      "Non-trainable params: 0\n",
      "_________________________________________________________________\n"
     ]
    }
   ],
   "source": [
    "model.summary()"
   ]
  },
  {
   "cell_type": "markdown",
   "metadata": {},
   "source": [
    "## Loading The Images"
   ]
  },
  {
   "cell_type": "code",
   "execution_count": 30,
   "metadata": {},
   "outputs": [
    {
     "name": "stdout",
     "output_type": "stream",
     "text": [
      "Found 6493 images belonging to 36 classes.\n",
      "Found 696 images belonging to 36 classes.\n"
     ]
    }
   ],
   "source": [
    "from tensorflow.keras.preprocessing.image import ImageDataGenerator\n",
    "\n",
    "# All images will be rescaled by 1./255.\n",
    "train_datagen = ImageDataGenerator(\n",
    "                                   rescale = 1./255.,\n",
    "                                   rotation_range = 60,\n",
    "                                   width_shift_range = 0.4,\n",
    "                                   height_shift_range = 0.4,\n",
    "                                   shear_range = 0.4,\n",
    "                                   zoom_range = 0.4,\n",
    "                                   horizontal_flip = True,\n",
    "                                   fill_mode='nearest'\n",
    ")\n",
    "\n",
    "# Note that the validation data should not be augmented!\n",
    "test_datagen = ImageDataGenerator(\n",
    "                                    rescale = 1./255.,\n",
    "                                   rotation_range = 60,\n",
    "                                   width_shift_range = 0.4,\n",
    "                                   height_shift_range = 0.4,\n",
    "                                   shear_range = 0.4,\n",
    "                                   zoom_range = 0.4,\n",
    "                                   horizontal_flip = True,\n",
    "                                   fill_mode='nearest'\n",
    ")\n",
    "\n",
    "# Flow training images in batches of 20 using train_datagen generator\n",
    "train_generator = train_datagen.flow_from_directory(train_dir,\n",
    "                                                    batch_size  = 10,\n",
    "                                                    target_size = (224, 224))     \n",
    "\n",
    "# Flow validation images in batches of 20 using test_datagen generator\n",
    "validation_generator =  test_datagen.flow_from_directory( valid_dir,\n",
    "                                                          batch_size  = 10, \n",
    "                                                          target_size = (224, 224))"
   ]
  },
  {
   "cell_type": "markdown",
   "metadata": {},
   "source": [
    "## Training The Model"
   ]
  },
  {
   "cell_type": "code",
   "execution_count": 31,
   "metadata": {},
   "outputs": [
    {
     "name": "stdout",
     "output_type": "stream",
     "text": [
      "Epoch 1/4\n",
      "650/650 [==============================] - 80s 123ms/step - loss: 3.5859 - accuracy: 0.0257 - val_loss: 3.5980 - val_accuracy: 0.0158\n",
      "Epoch 2/4\n",
      "650/650 [==============================] - 81s 125ms/step - loss: 3.5837 - accuracy: 0.0251 - val_loss: 3.6089 - val_accuracy: 0.0158\n",
      "Epoch 3/4\n",
      "650/650 [==============================] - 80s 124ms/step - loss: 3.5830 - accuracy: 0.0243 - val_loss: 3.6090 - val_accuracy: 0.0144\n",
      "Epoch 4/4\n",
      "650/650 [==============================] - 80s 123ms/step - loss: 3.5828 - accuracy: 0.0257 - val_loss: 3.6122 - val_accuracy: 0.0144\n"
     ]
    }
   ],
   "source": [
    "history = model.fit(train_generator,\n",
    "#                               steps_per_epoch=2000,\n",
    "                              validation_data=validation_generator,\n",
    "                              epochs=4,\n",
    "#                               validation_steps=5,\n",
    "                              verbose=1)"
   ]
  },
  {
   "cell_type": "markdown",
   "metadata": {},
   "source": [
    "## The Accuracy/Loss Graph"
   ]
  },
  {
   "cell_type": "code",
   "execution_count": 26,
   "metadata": {},
   "outputs": [
    {
     "data": {
      "image/png": "[encoded data removed]",
      "text/plain": [
       "<Figure size 432x288 with 1 Axes>"
      ]
     },
     "metadata": {
      "needs_background": "light"
     },
     "output_type": "display_data"
    },
    {
     "data": {
      "text/plain": [
       "<Figure size 432x288 with 0 Axes>"
      ]
     },
     "metadata": {},
     "output_type": "display_data"
    }
   ],
   "source": [
    "import matplotlib.pyplot as plt\n",
    "acc = history.history['accuracy']\n",
    "val_acc = history.history['val_accuracy']\n",
    "loss = history.history['loss']\n",
    "val_loss = history.history['val_loss']\n",
    "\n",
    "epochs = range(len(acc))\n",
    "\n",
    "plt.plot(epochs, acc, 'r', label='Training accuracy')\n",
    "plt.plot(epochs, val_acc, 'b', label='Validation accuracy')\n",
    "plt.title('Training and validation accuracy')\n",
    "plt.legend(loc=0)\n",
    "plt.figure()\n",
    "\n",
    "\n",
    "plt.show()"
   ]
  },
  {
   "cell_type": "markdown",
   "metadata": {},
   "source": [
    "## Saving The Model"
   ]
  },
  {
   "cell_type": "code",
   "execution_count": 10,
   "metadata": {},
   "outputs": [
    {
     "name": "stdout",
     "output_type": "stream",
     "text": [
      "WARNING:tensorflow:From c:\\users\\dedsec995\\projects\\tensorflow\\env\\lib\\site-packages\\tensorflow\\python\\ops\\resource_variable_ops.py:1813: calling BaseResourceVariable.__init__ (from tensorflow.python.ops.resource_variable_ops) with constraint is deprecated and will be removed in a future version.\n",
      "Instructions for updating:\n",
      "If using Keras pass *_constraint arguments to layers.\n",
      "INFO:tensorflow:Assets written to: C:/Users/dedsec995/Projects/tensorflow/breed/assets\n"
     ]
    }
   ],
   "source": [
    "tf.keras.models.save_model(\n",
    "    model, \"C:/Users/dedsec995/Projects/tensorflow/breed/\", overwrite=True, include_optimizer=True, save_format=None,\n",
    "    signatures=None, options=None\n",
    ")"
   ]
  },
  {
   "cell_type": "code",
   "execution_count": 23,
   "metadata": {},
   "outputs": [
    {
     "name": "stdout",
     "output_type": "stream",
     "text": [
      "INFO:tensorflow:Assets written to: C:/Users/dedsec995/Projects/tensorflow/breed/model/breed_v2.0\\assets\n"
     ]
    }
   ],
   "source": [
    "model.save('C:/Users/dedsec995/Projects/tensorflow/breed/model/breed_v2.0')"
   ]
  },
  {
   "cell_type": "markdown",
   "metadata": {},
   "source": [
    "## Prediction"
   ]
  },
  {
   "cell_type": "code",
   "execution_count": 27,
   "metadata": {},
   "outputs": [
    {
     "name": "stdout",
     "output_type": "stream",
     "text": [
      "[[0.02639459 0.02480238 0.02677373 0.02316338 0.02482118 0.02548779\n",
      "  0.02469615 0.02459842 0.02309756 0.02608993 0.02888127 0.02616138\n",
      "  0.02868764 0.03017492 0.0291565  0.02727838 0.03000032 0.03027332\n",
      "  0.02922832 0.02828579 0.02922581 0.02907014 0.02916712 0.02859264\n",
      "  0.02900725 0.0287271  0.02944215 0.02842548 0.02926376 0.03003077\n",
      "  0.02981395 0.0287853  0.02666366 0.02789184 0.02814844 0.02969165]]\n"
     ]
    }
   ],
   "source": [
    "from tensorflow.keras.preprocessing import image\n",
    "path = 'C:/Users/dedsec995/Projects/tensorflow/breed/data/test/Abyssinian/Abyssinian_191.jpg'\n",
    "img = image.load_img(path, target_size=(224, 224))\n",
    "x = image.img_to_array(img)\n",
    "# print(x)\n",
    "# print(x.ndim)\n",
    "x = np.expand_dims(x, axis=0)\n",
    "# print(x.ndim)\n",
    "classes = model.predict(x)\n",
    "# print(fn)\n",
    "print(classes)"
   ]
  }
 ],
 "metadata": {
  "kernelspec": {
   "display_name": "Python 3",
   "language": "python",
   "name": "python3"
  },
  "language_info": {
   "codemirror_mode": {
    "name": "ipython",
    "version": 3
   },
   "file_extension": ".py",
   "mimetype": "text/x-python",
   "name": "python",
   "nbconvert_exporter": "python",
   "pygments_lexer": "ipython3",
   "version": "3.8.5"
  }
 },
 "nbformat": 4,
 "nbformat_minor": 4
}
