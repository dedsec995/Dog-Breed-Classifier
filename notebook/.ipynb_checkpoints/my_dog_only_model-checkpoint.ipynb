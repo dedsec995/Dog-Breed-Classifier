{
 "cells": [
  {
   "cell_type": "code",
   "execution_count": 1,
   "metadata": {},
   "outputs": [
    {
     "name": "stderr",
     "output_type": "stream",
     "text": [
      "Using TensorFlow backend.\n"
     ]
    }
   ],
   "source": [
    " import os\n",
    "\n",
    "import warnings\n",
    "warnings.filterwarnings(\"ignore\")\n",
    "\n",
    "import matplotlib.pyplot as plt\n",
    "import matplotlib.image as mpimg\n",
    "\n",
    "import xml.etree.ElementTree as ET\n",
    "\n",
    "import numpy as np\n",
    "import pandas as pd\n",
    "import tensorflow as tf\n",
    "\n",
    "from skimage.io import imread\n",
    "from skimage.transform import resize\n",
    "from PIL import Image\n",
    "from imgaug import augmenters as iaa\n",
    "\n",
    "from sklearn.model_selection import train_test_split\n",
    "\n",
    "from tensorflow.keras.models import *\n",
    "from tensorflow.keras.layers import *\n",
    "from tensorflow.keras.optimizers import *\n",
    "from tensorflow.keras.utils import *\n",
    "from tensorflow.keras.callbacks import *\n",
    "from keras.utils import np_utils\n",
    "\n",
    "from tensorflow.keras.applications.densenet import DenseNet121, preprocess_input\n",
    "from tensorflow.keras import Model"
   ]
  },
  {
   "cell_type": "code",
   "execution_count": 2,
   "metadata": {},
   "outputs": [],
   "source": [
    "train_dir = \"C:/Users/dedsec995/Projects/tensorflow/breed_dog_only/Data/dog/images\""
   ]
  },
  {
   "cell_type": "code",
   "execution_count": 10,
   "metadata": {},
   "outputs": [],
   "source": [
    "inp = Input((224, 224, 3))\n",
    "backbone = DenseNet121(input_tensor=inp,\n",
    "                       weights=\"imagenet\",\n",
    "                       include_top=False)\n",
    "x = backbone.output\n",
    "x = GlobalAveragePooling2D()(x)\n",
    "x = Dense(1024, activation=\"relu\")(x)\n",
    "x = Dropout(0.5)(x)\n",
    "x = Dense(1024, activation=\"relu\")(x)\n",
    "x = Dropout(0.5)(x)\n",
    "outp = Dense(120, activation=\"softmax\")(x)\n",
    "\n",
    "model = Model(inp, outp)"
   ]
  },
  {
   "cell_type": "code",
   "execution_count": 12,
   "metadata": {},
   "outputs": [],
   "source": [
    "# model.summary()"
   ]
  },
  {
   "cell_type": "code",
   "execution_count": 13,
   "metadata": {},
   "outputs": [],
   "source": [
    "for layer in model.layers[:-6]:\n",
    "    layer.trainable = False"
   ]
  },
  {
   "cell_type": "code",
   "execution_count": 17,
   "metadata": {},
   "outputs": [],
   "source": [
    "# model.summary()"
   ]
  },
  {
   "cell_type": "code",
   "execution_count": 16,
   "metadata": {},
   "outputs": [
    {
     "name": "stdout",
     "output_type": "stream",
     "text": [
      "Found 18571 images belonging to 120 classes.\n",
      "Found 2009 images belonging to 120 classes.\n"
     ]
    }
   ],
   "source": [
    "from tensorflow.keras.optimizers import Adam\n",
    "\n",
    "model.compile(optimizer=\"adam\",\n",
    "              loss=\"categorical_crossentropy\",\n",
    "              metrics = [\"accuracy\"])\n",
    "\n",
    "from tensorflow.keras.preprocessing.image import ImageDataGenerator\n",
    "\n",
    "# All images will be rescaled by 1./255.\n",
    "train_datagen = ImageDataGenerator(\n",
    "                                   rescale = 1./255.,\n",
    "                                   rotation_range = 40,\n",
    "                                   width_shift_range = 0.2,\n",
    "                                   height_shift_range = 0.2,\n",
    "                                   shear_range = 0.2,\n",
    "                                   zoom_range = 0.2,\n",
    "                                   horizontal_flip = True,\n",
    "                                   fill_mode='nearest',\n",
    "                                   validation_split=0.1\n",
    ")\n",
    "# Flow training images in batches of 20 using train_datagen generator\n",
    "train_generator = train_datagen.flow_from_directory(train_dir,\n",
    "                                                    batch_size  = 64,\n",
    "                                                    color_mode = 'rgb',\n",
    "                                                    class_mode=\"categorical\",\n",
    "                                                    target_size = (224, 224),\n",
    "                                                    subset='training')     \n",
    "\n",
    "# Flow validation images in batches of 20 using test_datagen generator\n",
    "validation_generator =  train_datagen.flow_from_directory( train_dir,\n",
    "                                                          batch_size  = 64, \n",
    "                                                          color_mode = 'rgb',\n",
    "                                                          class_mode=\"categorical\",\n",
    "                                                          target_size = (224, 224),\n",
    "                                                          subset='validation')\n",
    "\n",
    "def my_gen(gen):\n",
    "    while True:\n",
    "        try:\n",
    "            data, labels = next(gen)\n",
    "            yield data, labels\n",
    "        except:\n",
    "            pass"
   ]
  },
  {
   "cell_type": "code",
   "execution_count": 18,
   "metadata": {},
   "outputs": [
    {
     "name": "stdout",
     "output_type": "stream",
     "text": [
      "Epoch 1/25\n",
      "291/291 [==============================] - 229s 788ms/step - loss: 3.0228 - accuracy: 0.2593 - val_loss: 1.6328 - val_accuracy: 0.5341\n",
      "Epoch 2/25\n",
      "291/291 [==============================] - 206s 707ms/step - loss: 1.9982 - accuracy: 0.4419 - val_loss: 1.5194 - val_accuracy: 0.5804\n",
      "Epoch 3/25\n",
      "291/291 [==============================] - 206s 707ms/step - loss: 1.8352 - accuracy: 0.4817 - val_loss: 1.4457 - val_accuracy: 0.5784\n",
      "Epoch 4/25\n",
      "291/291 [==============================] - 206s 707ms/step - loss: 1.7297 - accuracy: 0.5111 - val_loss: 1.3971 - val_accuracy: 0.6108\n",
      "Epoch 5/25\n",
      "291/291 [==============================] - 209s 719ms/step - loss: 1.6804 - accuracy: 0.5221 - val_loss: 1.3876 - val_accuracy: 0.6182\n",
      "Epoch 6/25\n",
      "291/291 [==============================] - 207s 711ms/step - loss: 1.6517 - accuracy: 0.5291 - val_loss: 1.3347 - val_accuracy: 0.6162\n",
      "Epoch 7/25\n",
      "291/291 [==============================] - 199s 683ms/step - loss: 1.5842 - accuracy: 0.5460 - val_loss: 1.3560 - val_accuracy: 0.6098\n",
      "Epoch 8/25\n",
      "291/291 [==============================] - 197s 676ms/step - loss: 1.5859 - accuracy: 0.5428 - val_loss: 1.3318 - val_accuracy: 0.6103\n",
      "Epoch 9/25\n",
      "291/291 [==============================] - 206s 708ms/step - loss: 1.5471 - accuracy: 0.5538 - val_loss: 1.3280 - val_accuracy: 0.6242\n",
      "Epoch 10/25\n",
      "291/291 [==============================] - 209s 717ms/step - loss: 1.5409 - accuracy: 0.5618 - val_loss: 1.3627 - val_accuracy: 0.6103\n",
      "Epoch 11/25\n",
      "291/291 [==============================] - 197s 678ms/step - loss: 1.5170 - accuracy: 0.5609 - val_loss: 1.3206 - val_accuracy: 0.6073\n",
      "Epoch 12/25\n",
      "291/291 [==============================] - 197s 676ms/step - loss: 1.5142 - accuracy: 0.5682 - val_loss: 1.2927 - val_accuracy: 0.6416\n",
      "Epoch 13/25\n",
      "291/291 [==============================] - 197s 677ms/step - loss: 1.4954 - accuracy: 0.5735 - val_loss: 1.2913 - val_accuracy: 0.6426\n",
      "Epoch 14/25\n",
      "291/291 [==============================] - 197s 677ms/step - loss: 1.4894 - accuracy: 0.5746 - val_loss: 1.3664 - val_accuracy: 0.6162\n",
      "Epoch 15/25\n",
      "291/291 [==============================] - 197s 677ms/step - loss: 1.4744 - accuracy: 0.5756 - val_loss: 1.2997 - val_accuracy: 0.6366\n",
      "Epoch 16/25\n",
      "291/291 [==============================] - 197s 677ms/step - loss: 1.4585 - accuracy: 0.5851 - val_loss: 1.3231 - val_accuracy: 0.6267\n",
      "Epoch 17/25\n",
      "291/291 [==============================] - 197s 678ms/step - loss: 1.4505 - accuracy: 0.5819 - val_loss: 1.2903 - val_accuracy: 0.6381\n",
      "Epoch 18/25\n",
      "291/291 [==============================] - 197s 678ms/step - loss: 1.4538 - accuracy: 0.5840 - val_loss: 1.3163 - val_accuracy: 0.6277\n",
      "Epoch 19/25\n",
      "291/291 [==============================] - 197s 678ms/step - loss: 1.4507 - accuracy: 0.5844 - val_loss: 1.3161 - val_accuracy: 0.6317\n",
      "Epoch 20/25\n",
      "291/291 [==============================] - 198s 680ms/step - loss: 1.4291 - accuracy: 0.5905 - val_loss: 1.3180 - val_accuracy: 0.6322\n",
      "Epoch 21/25\n",
      "291/291 [==============================] - 198s 681ms/step - loss: 1.4372 - accuracy: 0.5928 - val_loss: 1.3254 - val_accuracy: 0.6371\n",
      "Epoch 22/25\n",
      "291/291 [==============================] - 198s 680ms/step - loss: 1.4465 - accuracy: 0.5844 - val_loss: 1.3203 - val_accuracy: 0.6366\n",
      "Epoch 23/25\n",
      "291/291 [==============================] - 198s 681ms/step - loss: 1.4246 - accuracy: 0.5924 - val_loss: 1.3462 - val_accuracy: 0.6262\n",
      "Epoch 24/25\n",
      "291/291 [==============================] - 198s 679ms/step - loss: 1.4338 - accuracy: 0.5904 - val_loss: 1.2748 - val_accuracy: 0.6471\n",
      "Epoch 25/25\n",
      "291/291 [==============================] - 198s 680ms/step - loss: 1.4214 - accuracy: 0.5942 - val_loss: 1.3175 - val_accuracy: 0.6336\n"
     ]
    }
   ],
   "source": [
    "history = model.fit(train_generator,\n",
    "                              validation_data=validation_generator, \n",
    "                              steps_per_epoch=len(train_generator), \n",
    "                              validation_steps=len(validation_generator),\n",
    "                              epochs=25)"
   ]
  },
  {
   "cell_type": "code",
   "execution_count": 19,
   "metadata": {},
   "outputs": [
    {
     "data": {
      "image/png": "[encoded data removed]",
      "text/plain": [
       "<Figure size 432x432 with 1 Axes>"
      ]
     },
     "metadata": {
      "needs_background": "light"
     },
     "output_type": "display_data"
    },
    {
     "data": {
      "image/png": "[encoded data removed]",
      "text/plain": [
       "<Figure size 432x432 with 1 Axes>"
      ]
     },
     "metadata": {
      "needs_background": "light"
     },
     "output_type": "display_data"
    }
   ],
   "source": [
    "plt.rcParams['figure.figsize'] = (6,6)\n",
    "\n",
    "acc = history.history['accuracy']\n",
    "val_acc = history.history['val_accuracy']\n",
    "loss = history.history['loss']\n",
    "val_loss = history.history['val_loss']\n",
    "epochs = range(1, len(acc) + 1)\n",
    "\n",
    "plt.title('Training and validation accuracy')\n",
    "plt.plot(epochs, acc, 'red', label='Training acc')\n",
    "plt.plot(epochs, val_acc, 'blue', label='Validation acc')\n",
    "plt.legend()\n",
    "\n",
    "plt.figure()\n",
    "plt.title('Training and validation loss')\n",
    "plt.plot(epochs, loss, 'red', label='Training loss')\n",
    "plt.plot(epochs, val_loss, 'blue', label='Validation loss')\n",
    "\n",
    "plt.legend()\n",
    "\n",
    "plt.show()"
   ]
  },
  {
   "cell_type": "code",
   "execution_count": 20,
   "metadata": {},
   "outputs": [],
   "source": [
    "for layer in model.layers[:]:\n",
    "    layer.trainable = True"
   ]
  },
  {
   "cell_type": "code",
   "execution_count": 21,
   "metadata": {},
   "outputs": [],
   "source": [
    "# a check point callback to save our best weights\n",
    "checkpoint = ModelCheckpoint('dog_breed_classifier_model.h5', \n",
    "                             monitor='val_accuracy', \n",
    "                             verbose=1, \n",
    "                             save_best_only=True, \n",
    "                             mode='max', \n",
    "                             save_weights_only=True)\n",
    "\n",
    "# a reducing lr callback to reduce lr when val_loss doesn't increase\n",
    "reduce_lr = ReduceLROnPlateau(monitor='val_loss', factor=0.2,\n",
    "                                   patience=1, verbose=1, mode='min',\n",
    "                                   min_delta=0.0001, cooldown=2, min_lr=1e-7)\n",
    "\n",
    "# for early stop\n",
    "early_stop = EarlyStopping(monitor=\"val_loss\", mode=\"min\", patience=5)"
   ]
  },
  {
   "cell_type": "code",
   "execution_count": null,
   "metadata": {},
   "outputs": [
    {
     "name": "stdout",
     "output_type": "stream",
     "text": [
      "WARNING:tensorflow:From <ipython-input-22-cb439c27dd41>:1: Model.fit_generator (from tensorflow.python.keras.engine.training) is deprecated and will be removed in a future version.\n",
      "Instructions for updating:\n",
      "Please use Model.fit, which supports generators.\n",
      "Epoch 1/40\n",
      "291/291 [==============================] - ETA: 0s - loss: 1.3926 - accuracy: 0.6006\n",
      "Epoch 00001: val_accuracy improved from -inf to 0.64062, saving model to dog_breed_classifier_model.h5\n",
      "291/291 [==============================] - 198s 681ms/step - loss: 1.3926 - accuracy: 0.6006 - val_loss: 1.2926 - val_accuracy: 0.6406 - lr: 0.0010\n",
      "Epoch 2/40\n",
      "291/291 [==============================] - ETA: 0s - loss: 1.4162 - accuracy: 0.6001\n",
      "Epoch 00002: val_accuracy did not improve from 0.64062\n",
      "\n",
      "Epoch 00002: ReduceLROnPlateau reducing learning rate to 0.00020000000949949026.\n",
      "291/291 [==============================] - 196s 675ms/step - loss: 1.4162 - accuracy: 0.6001 - val_loss: 1.3059 - val_accuracy: 0.6386 - lr: 0.0010\n",
      "Epoch 3/40\n",
      "291/291 [==============================] - ETA: 0s - loss: 1.2478 - accuracy: 0.6305\n",
      "Epoch 00003: val_accuracy improved from 0.64062 to 0.65854, saving model to dog_breed_classifier_model.h5\n",
      "291/291 [==============================] - 197s 677ms/step - loss: 1.2478 - accuracy: 0.6305 - val_loss: 1.2058 - val_accuracy: 0.6585 - lr: 2.0000e-04\n",
      "Epoch 4/40\n",
      "291/291 [==============================] - ETA: 0s - loss: 1.2012 - accuracy: 0.6465\n",
      "Epoch 00004: val_accuracy improved from 0.65854 to 0.66053, saving model to dog_breed_classifier_model.h5\n",
      "\n",
      "Epoch 00004: ReduceLROnPlateau reducing learning rate to 4.0000001899898055e-05.\n",
      "291/291 [==============================] - 197s 677ms/step - loss: 1.2012 - accuracy: 0.6465 - val_loss: 1.2320 - val_accuracy: 0.6605 - lr: 2.0000e-04\n",
      "Epoch 5/40\n",
      "291/291 [==============================] - ETA: 0s - loss: 1.1535 - accuracy: 0.6636\n",
      "Epoch 00005: val_accuracy improved from 0.66053 to 0.67347, saving model to dog_breed_classifier_model.h5\n",
      "291/291 [==============================] - 197s 677ms/step - loss: 1.1535 - accuracy: 0.6636 - val_loss: 1.1799 - val_accuracy: 0.6735 - lr: 4.0000e-05\n",
      "Epoch 6/40\n",
      "291/291 [==============================] - ETA: 0s - loss: 1.1346 - accuracy: 0.6665\n",
      "Epoch 00006: val_accuracy did not improve from 0.67347\n",
      "291/291 [==============================] - 210s 720ms/step - loss: 1.1346 - accuracy: 0.6665 - val_loss: 1.1743 - val_accuracy: 0.6630 - lr: 4.0000e-05\n",
      "Epoch 7/40\n",
      "291/291 [==============================] - ETA: 0s - loss: 1.1389 - accuracy: 0.6647\n",
      "Epoch 00007: val_accuracy did not improve from 0.67347\n",
      "\n",
      "Epoch 00007: ReduceLROnPlateau reducing learning rate to 8.000000525498762e-06.\n",
      "291/291 [==============================] - 205s 704ms/step - loss: 1.1389 - accuracy: 0.6647 - val_loss: 1.1815 - val_accuracy: 0.6685 - lr: 4.0000e-05\n",
      "Epoch 8/40\n",
      " 12/291 [>.............................] - ETA: 2:41 - loss: 1.1304 - accuracy: 0.6706"
     ]
    }
   ],
   "source": [
    "history = model.fit_generator(train_generator,\n",
    "                              validation_data=validation_generator, \n",
    "#                               steps_per_epoch=len(train_generator)/20, \n",
    "#                               validation_steps=len(val_gen),\n",
    "                              epochs=40,\n",
    "                              callbacks=[checkpoint, reduce_lr, early_stop])"
   ]
  },
  {
   "cell_type": "code",
   "execution_count": null,
   "metadata": {},
   "outputs": [],
   "source": [
    "plt.rcParams['figure.figsize'] = (6,6)\n",
    "\n",
    "acc = history.history['accuracy']\n",
    "val_acc = history.history['val_accuracy']\n",
    "loss = history.history['loss']\n",
    "val_loss = history.history['val_loss']\n",
    "epochs = range(1, len(acc) + 1)\n",
    "\n",
    "plt.title('Training and validation accuracy')\n",
    "plt.plot(epochs, acc, 'red', label='Training acc')\n",
    "plt.plot(epochs, val_acc, 'blue', label='Validation acc')\n",
    "plt.legend()\n",
    "\n",
    "plt.figure()\n",
    "plt.title('Training and validation loss')\n",
    "plt.plot(epochs, loss, 'red', label='Training loss')\n",
    "plt.plot(epochs, val_loss, 'blue', label='Validation loss')\n",
    "\n",
    "plt.legend()\n",
    "\n",
    "plt.show()"
   ]
  },
  {
   "cell_type": "code",
   "execution_count": null,
   "metadata": {},
   "outputs": [],
   "source": [
    "print(max(val_acc))"
   ]
  },
  {
   "cell_type": "code",
   "execution_count": null,
   "metadata": {},
   "outputs": [],
   "source": [
    "from tensorflow.keras.preprocessing import image\n",
    "path = 'C:/Users/dedsec995/Projects/tensorflow/breed_dog_only/notebook/test_1.jpg'\n",
    "img = image.load_img(path, target_size=(224, 224))\n",
    "x = image.img_to_array(img)\n",
    "print(x)\n",
    "# print(x.ndim)\n",
    "x = np.expand_dims(x, axis=0)\n",
    "# print(x.ndim)\n",
    "x = x/255.\n",
    "print(x)\n",
    "classes = model.predict(x)\n",
    "# print(fn)\n",
    "print(classes)\n",
    "print(classes[0][74])"
   ]
  },
  {
   "cell_type": "code",
   "execution_count": 22,
   "metadata": {},
   "outputs": [
    {
     "name": "stdout",
     "output_type": "stream",
     "text": [
      "WARNING:tensorflow:From c:\\users\\dedsec995\\projects\\tensorflow\\env\\lib\\site-packages\\tensorflow\\python\\ops\\resource_variable_ops.py:1813: calling BaseResourceVariable.__init__ (from tensorflow.python.ops.resource_variable_ops) with constraint is deprecated and will be removed in a future version.\n",
      "Instructions for updating:\n",
      "If using Keras pass *_constraint arguments to layers.\n",
      "INFO:tensorflow:Assets written to: my_method_dog_only\\assets\n"
     ]
    }
   ],
   "source": [
    "model.save('my_method_dog_only')"
   ]
  },
  {
   "cell_type": "code",
   "execution_count": 25,
   "metadata": {},
   "outputs": [],
   "source": [
    "# Convert the model.\n",
    "converter = tf.lite.TFLiteConverter.from_keras_model(model)\n",
    "tflite_model = converter.convert()\n",
    "\n",
    "# Save the TF Lite model.\n",
    "with tf.io.gfile.GFile('model.tflite', 'wb') as f:\n",
    "  f.write(tflite_model)"
   ]
  },
  {
   "cell_type": "code",
   "execution_count": null,
   "metadata": {},
   "outputs": [],
   "source": []
  }
 ],
 "metadata": {
  "kernelspec": {
   "display_name": "Python 3",
   "language": "python",
   "name": "python3"
  },
  "language_info": {
   "codemirror_mode": {
    "name": "ipython",
    "version": 3
   },
   "file_extension": ".py",
   "mimetype": "text/x-python",
   "name": "python",
   "nbconvert_exporter": "python",
   "pygments_lexer": "ipython3",
   "version": "3.8.2"
  }
 },
 "nbformat": 4,
 "nbformat_minor": 4
}
